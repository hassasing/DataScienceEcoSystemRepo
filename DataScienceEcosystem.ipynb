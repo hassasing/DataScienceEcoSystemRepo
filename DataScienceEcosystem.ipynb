{
  "metadata": {
    "kernelspec": {
      "name": "python",
      "display_name": "Python (Pyodide)",
      "language": "python"
    },
    "language_info": {
      "codemirror_mode": {
        "name": "python",
        "version": 3
      },
      "file_extension": ".py",
      "mimetype": "text/x-python",
      "name": "python",
      "nbconvert_exporter": "python",
      "pygments_lexer": "ipython3",
      "version": "3.8"
    }
  },
  "nbformat_minor": 4,
  "nbformat": 4,
  "cells": [
    {
      "cell_type": "markdown",
      "source": "# DataScienceEcosystem\n\nIn this notebook, Data Science Tools and Ecosystem are summarized.\n\n## Objectives\n\nIn this notebook you will get information on the following:\n*   Some of the popular languages that Data Scientists use \n*   Some of the commonly used Python libraries used by Data Scientists include\n*   Data Science Tools\n*   Some examples of evaluating arithmetic expressions in Python\n  \n\n## Some of the popular languages that Data Scientists use are:\n\n1. Python\n2. R\n3. SQL\n4. Scala\n5. Julia\n\n## Some of the commonly used Python libraries used by Data Scientists include:\n\n1. Numpy\n2. Pandas\n3. Matplotlib\n4. scikit-learn\n5. Statsmodels\n\n| Data Science Tools |\n| --- |\n| Jupyter Notebooks/Lab |\n| RStudio |\n| VS Code |\n\n### Below are a few examples of evaluating arithmetic expressions in Python.\n\n\n",
      "metadata": {}
    },
    {
      "cell_type": "code",
      "source": "#This a simple arithmetic expression to mutiply then add integers\n\n(3*4)+5",
      "metadata": {
        "trusted": true
      },
      "outputs": [
        {
          "execution_count": 2,
          "output_type": "execute_result",
          "data": {
            "text/plain": "17"
          },
          "metadata": {}
        }
      ],
      "execution_count": 2
    },
    {
      "cell_type": "code",
      "source": "# This will convert 200 minutes to hours by diving by 60\n\n200/60",
      "metadata": {
        "trusted": true
      },
      "outputs": [
        {
          "execution_count": 3,
          "output_type": "execute_result",
          "data": {
            "text/plain": "3.3333333333333335"
          },
          "metadata": {}
        }
      ],
      "execution_count": 3
    },
    {
      "cell_type": "markdown",
      "source": "## Author\n\nDilip Hassasing",
      "metadata": {}
    }
  ]
}